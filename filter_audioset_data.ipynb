{
 "cells": [
  {
   "cell_type": "code",
   "execution_count": 995,
   "metadata": {},
   "outputs": [],
   "source": [
    "import os\n",
    "import sys\n",
    "import subprocess\n",
    "import pandas as pd"
   ]
  },
  {
   "cell_type": "code",
   "execution_count": 996,
   "metadata": {},
   "outputs": [],
   "source": [
    "audioset_labels = pd.read_csv(\"data/class_labels_indices.csv\")\n",
    "qa_true_count = pd.read_csv(\"data/qa_true_counts.csv\")\n",
    "original_labels = audioset_labels.copy()\n",
    "# audioset_unbal_train_df = pd.read_csv(\"data/audioset/unbalanced_train_segments.csv\")\n",
    "audioset_bal_train = pd.read_csv(\"data/balanced_train_segments-edited.csv\")#, delimiter=', ', engine='python')\n",
    "audioset_eval = pd.read_csv(\"data/eval_segments-edited.csv\")#, delimiter=', ', engine='python')"
   ]
  },
  {
   "cell_type": "code",
   "execution_count": 997,
   "metadata": {},
   "outputs": [
    {
     "data": {
      "text/plain": [
       "(22160, 15)"
      ]
     },
     "execution_count": 997,
     "metadata": {},
     "output_type": "execute_result"
    }
   ],
   "source": [
    "audioset_bal_train.shape"
   ]
  },
  {
   "cell_type": "code",
   "execution_count": 998,
   "metadata": {},
   "outputs": [
    {
     "name": "stdout",
     "output_type": "stream",
     "text": [
      "['# YTID', ' start_seconds', ' end_seconds', ' positive_labels', 'Unnamed: 4', 'Unnamed: 5', 'Unnamed: 6', 'Unnamed: 7', 'Unnamed: 8', 'Unnamed: 9', 'Unnamed: 10', 'Unnamed: 11', 'Unnamed: 12', 'Unnamed: 13', 'Unnamed: 14']\n",
      "['# YTID', ' start_seconds', ' end_seconds', ' positive_labels', 'Unnamed: 4', 'Unnamed: 5', 'Unnamed: 6', 'Unnamed: 7', 'Unnamed: 8', 'Unnamed: 9', 'Unnamed: 10', 'Unnamed: 11', 'Unnamed: 12', 'Unnamed: 13']\n"
     ]
    }
   ],
   "source": [
    "print(list(audioset_bal_train.columns.values))\n",
    "print(list(audioset_eval.columns.values))"
   ]
  },
  {
   "cell_type": "code",
   "execution_count": 999,
   "metadata": {},
   "outputs": [
    {
     "name": "stdout",
     "output_type": "stream",
     "text": [
      "[' positive_labels', 'Unnamed: 4', 'Unnamed: 5', 'Unnamed: 6', 'Unnamed: 7', 'Unnamed: 8', 'Unnamed: 9', 'Unnamed: 10', 'Unnamed: 11', 'Unnamed: 12', 'Unnamed: 13', 'Unnamed: 14']\n"
     ]
    }
   ],
   "source": [
    "train_cols = list(audioset_bal_train.columns.values)[3:]\n",
    "print(train_cols)"
   ]
  },
  {
   "cell_type": "code",
   "execution_count": 1000,
   "metadata": {},
   "outputs": [
    {
     "name": "stdout",
     "output_type": "stream",
     "text": [
      "[' positive_labels', 'Unnamed: 4', 'Unnamed: 5', 'Unnamed: 6', 'Unnamed: 7', 'Unnamed: 8', 'Unnamed: 9', 'Unnamed: 10', 'Unnamed: 11', 'Unnamed: 12', 'Unnamed: 13']\n"
     ]
    }
   ],
   "source": [
    "eval_cols = list(audioset_eval.columns.values)[3:]\n",
    "print(eval_cols)"
   ]
  },
  {
   "cell_type": "code",
   "execution_count": 1001,
   "metadata": {},
   "outputs": [],
   "source": [
    "# Create column with all labels\n",
    "audioset_bal_train.fillna('', inplace=True)\n",
    "audioset_eval.fillna('', inplace=True)\n",
    "audioset_bal_train['all_labels'] = audioset_bal_train[train_cols].apply(lambda row: ','.join(row.values.astype(str)), axis=1)\n",
    "audioset_eval['all_labels'] = audioset_bal_train[eval_cols].apply(lambda row: ','.join(row.values.astype(str)), axis=1)\n",
    "audioset_bal_train['all_labels'] = audioset_bal_train['all_labels'].str.rstrip(',')\n",
    "audioset_eval['all_labels'] = audioset_eval['all_labels'].str.rstrip(',')"
   ]
  },
  {
   "cell_type": "code",
   "execution_count": 1055,
   "metadata": {},
   "outputs": [],
   "source": [
    "# Define some helper functions\n",
    "def contains_animal_label(positive_labels):\n",
    "    for label in label_list:\n",
    "        if label in positive_labels:\n",
    "            return True\n",
    "    return False\n",
    "\n",
    "def contains_only_animal_label(positive_labels):\n",
    "    for label in label_list:\n",
    "        if label not in positive_labels:\n",
    "            return False\n",
    "    return True\n",
    "\n",
    "def get_display_name_from_mid(mid):\n",
    "    return original_labels.loc[original_labels['mid'] == mid].iloc[0]['display_name']\n",
    "\n",
    "def get_true_count_from_mid(mid):\n",
    "    return qa_true_count.loc[qa_true_count['label_id'] == mid].iloc[0]['num_true']\n",
    "\n",
    "\n",
    "def strip_quotes(in_string):\n",
    "    in_string = in_string.strip()\n",
    "    if in_string.startswith('\"'):\n",
    "        in_string = in_string[1:]\n",
    "    if in_string.endswith('\"'):\n",
    "        in_string = in_string[:-1]\n",
    "    return in_string"
   ]
  },
  {
   "cell_type": "code",
   "execution_count": 1003,
   "metadata": {},
   "outputs": [],
   "source": [
    "# Strip quotes from every column. They are no longer needed\n",
    "for col in train_cols:\n",
    "    audioset_bal_train[col] = audioset_bal_train[col].apply(strip_quotes)\n",
    "for col in eval_cols:\n",
    "    audioset_eval[col] = audioset_eval[col].apply(strip_quotes)"
   ]
  },
  {
   "cell_type": "code",
   "execution_count": 1004,
   "metadata": {},
   "outputs": [
    {
     "name": "stdout",
     "output_type": "stream",
     "text": [
      "['# YTID', ' start_seconds', ' end_seconds', ' positive_labels', 'Unnamed: 4', 'Unnamed: 5', 'Unnamed: 6', 'Unnamed: 7', 'Unnamed: 8', 'Unnamed: 9', 'Unnamed: 10', 'Unnamed: 11', 'Unnamed: 12', 'Unnamed: 13', 'Unnamed: 14', 'all_labels']\n",
      "['# YTID', ' start_seconds', ' end_seconds', ' positive_labels', 'Unnamed: 4', 'Unnamed: 5', 'Unnamed: 6', 'Unnamed: 7', 'Unnamed: 8', 'Unnamed: 9', 'Unnamed: 10', 'Unnamed: 11', 'Unnamed: 12', 'Unnamed: 13', 'Unnamed: 14', 'all_labels']\n"
     ]
    }
   ],
   "source": [
    "train_cols = list(audioset_bal_train.columns.values)\n",
    "print(train_cols)\n",
    "\n",
    "eval_cols = list(audioset_eval.columns.values)\n",
    "print(train_cols)"
   ]
  },
  {
   "cell_type": "code",
   "execution_count": 1005,
   "metadata": {},
   "outputs": [],
   "source": [
    "# Rearragne columns\n",
    "audioset_bal_train = audioset_bal_train[['# YTID', ' start_seconds', ' end_seconds', 'all_labels', ' positive_labels', 'Unnamed: 4', 'Unnamed: 5', 'Unnamed: 6', 'Unnamed: 7', 'Unnamed: 8', 'Unnamed: 9', 'Unnamed: 10', 'Unnamed: 11', 'Unnamed: 12', 'Unnamed: 13', 'Unnamed: 14']]\n",
    "audioset_eval = audioset_eval[['# YTID', ' start_seconds', ' end_seconds', 'all_labels', ' positive_labels', 'Unnamed: 4', 'Unnamed: 5', 'Unnamed: 6', 'Unnamed: 7', 'Unnamed: 8', 'Unnamed: 9', 'Unnamed: 10', 'Unnamed: 11', 'Unnamed: 12', 'Unnamed: 13']]"
   ]
  },
  {
   "cell_type": "code",
   "execution_count": 1006,
   "metadata": {},
   "outputs": [],
   "source": [
    "# Rearragne columns\n",
    "audioset_bal_train.rename(columns={\" positive_labels\": 'Unnamed: 3'}, inplace=True)\n",
    "audioset_eval.rename(columns={\" positive_labels\": 'Unnamed: 3'}, inplace=True)"
   ]
  },
  {
   "cell_type": "code",
   "execution_count": 1007,
   "metadata": {},
   "outputs": [
    {
     "data": {
      "text/html": [
       "<div>\n",
       "<style scoped>\n",
       "    .dataframe tbody tr th:only-of-type {\n",
       "        vertical-align: middle;\n",
       "    }\n",
       "\n",
       "    .dataframe tbody tr th {\n",
       "        vertical-align: top;\n",
       "    }\n",
       "\n",
       "    .dataframe thead th {\n",
       "        text-align: right;\n",
       "    }\n",
       "</style>\n",
       "<table border=\"1\" class=\"dataframe\">\n",
       "  <thead>\n",
       "    <tr style=\"text-align: right;\">\n",
       "      <th></th>\n",
       "      <th># YTID</th>\n",
       "      <th>start_seconds</th>\n",
       "      <th>end_seconds</th>\n",
       "      <th>all_labels</th>\n",
       "      <th>Unnamed: 3</th>\n",
       "      <th>Unnamed: 4</th>\n",
       "      <th>Unnamed: 5</th>\n",
       "      <th>Unnamed: 6</th>\n",
       "      <th>Unnamed: 7</th>\n",
       "      <th>Unnamed: 8</th>\n",
       "      <th>Unnamed: 9</th>\n",
       "      <th>Unnamed: 10</th>\n",
       "      <th>Unnamed: 11</th>\n",
       "      <th>Unnamed: 12</th>\n",
       "      <th>Unnamed: 13</th>\n",
       "      <th>Unnamed: 14</th>\n",
       "    </tr>\n",
       "  </thead>\n",
       "  <tbody>\n",
       "    <tr>\n",
       "      <th>0</th>\n",
       "      <td>#NAME?</td>\n",
       "      <td>30.0</td>\n",
       "      <td>40.0</td>\n",
       "      <td>\"/m/09x0r,/t/dd00088\"</td>\n",
       "      <td>/m/09x0r</td>\n",
       "      <td>/t/dd00088</td>\n",
       "      <td></td>\n",
       "      <td></td>\n",
       "      <td></td>\n",
       "      <td></td>\n",
       "      <td></td>\n",
       "      <td></td>\n",
       "      <td></td>\n",
       "      <td></td>\n",
       "      <td></td>\n",
       "      <td></td>\n",
       "    </tr>\n",
       "    <tr>\n",
       "      <th>1</th>\n",
       "      <td>#NAME?</td>\n",
       "      <td>50.0</td>\n",
       "      <td>60.0</td>\n",
       "      <td>\"/m/012xff\"</td>\n",
       "      <td>/m/012xff</td>\n",
       "      <td></td>\n",
       "      <td></td>\n",
       "      <td></td>\n",
       "      <td></td>\n",
       "      <td></td>\n",
       "      <td></td>\n",
       "      <td></td>\n",
       "      <td></td>\n",
       "      <td></td>\n",
       "      <td></td>\n",
       "      <td></td>\n",
       "    </tr>\n",
       "    <tr>\n",
       "      <th>2</th>\n",
       "      <td>#NAME?</td>\n",
       "      <td>0.0</td>\n",
       "      <td>10.0</td>\n",
       "      <td>\"/m/03fwl,/m/04rlf,/m/09x0r\"</td>\n",
       "      <td>/m/03fwl</td>\n",
       "      <td>/m/04rlf</td>\n",
       "      <td>/m/09x0r</td>\n",
       "      <td></td>\n",
       "      <td></td>\n",
       "      <td></td>\n",
       "      <td></td>\n",
       "      <td></td>\n",
       "      <td></td>\n",
       "      <td></td>\n",
       "      <td></td>\n",
       "      <td></td>\n",
       "    </tr>\n",
       "    <tr>\n",
       "      <th>3</th>\n",
       "      <td>#NAME?</td>\n",
       "      <td>30.0</td>\n",
       "      <td>40.0</td>\n",
       "      <td>\"/t/dd00003,/t/dd00005\"</td>\n",
       "      <td>/t/dd00003</td>\n",
       "      <td>/t/dd00005</td>\n",
       "      <td></td>\n",
       "      <td></td>\n",
       "      <td></td>\n",
       "      <td></td>\n",
       "      <td></td>\n",
       "      <td></td>\n",
       "      <td></td>\n",
       "      <td></td>\n",
       "      <td></td>\n",
       "      <td></td>\n",
       "    </tr>\n",
       "    <tr>\n",
       "      <th>4</th>\n",
       "      <td>#NAME?</td>\n",
       "      <td>200.0</td>\n",
       "      <td>210.0</td>\n",
       "      <td>\"/m/032s66,/m/073cg4\"</td>\n",
       "      <td>/m/032s66</td>\n",
       "      <td>/m/073cg4</td>\n",
       "      <td></td>\n",
       "      <td></td>\n",
       "      <td></td>\n",
       "      <td></td>\n",
       "      <td></td>\n",
       "      <td></td>\n",
       "      <td></td>\n",
       "      <td></td>\n",
       "      <td></td>\n",
       "      <td></td>\n",
       "    </tr>\n",
       "  </tbody>\n",
       "</table>\n",
       "</div>"
      ],
      "text/plain": [
       "   # YTID   start_seconds   end_seconds                     all_labels  \\\n",
       "0  #NAME?            30.0          40.0          \"/m/09x0r,/t/dd00088\"   \n",
       "1  #NAME?            50.0          60.0                    \"/m/012xff\"   \n",
       "2  #NAME?             0.0          10.0   \"/m/03fwl,/m/04rlf,/m/09x0r\"   \n",
       "3  #NAME?            30.0          40.0        \"/t/dd00003,/t/dd00005\"   \n",
       "4  #NAME?           200.0         210.0          \"/m/032s66,/m/073cg4\"   \n",
       "\n",
       "   Unnamed: 3  Unnamed: 4 Unnamed: 5 Unnamed: 6 Unnamed: 7 Unnamed: 8  \\\n",
       "0    /m/09x0r  /t/dd00088                                               \n",
       "1   /m/012xff                                                           \n",
       "2    /m/03fwl    /m/04rlf   /m/09x0r                                    \n",
       "3  /t/dd00003  /t/dd00005                                               \n",
       "4   /m/032s66   /m/073cg4                                               \n",
       "\n",
       "  Unnamed: 9 Unnamed: 10 Unnamed: 11 Unnamed: 12 Unnamed: 13 Unnamed: 14  \n",
       "0                                                                         \n",
       "1                                                                         \n",
       "2                                                                         \n",
       "3                                                                         \n",
       "4                                                                         "
      ]
     },
     "execution_count": 1007,
     "metadata": {},
     "output_type": "execute_result"
    }
   ],
   "source": [
    "audioset_bal_train.head()"
   ]
  },
  {
   "cell_type": "code",
   "execution_count": 1008,
   "metadata": {
    "scrolled": true
   },
   "outputs": [
    {
     "data": {
      "text/html": [
       "<div>\n",
       "<style scoped>\n",
       "    .dataframe tbody tr th:only-of-type {\n",
       "        vertical-align: middle;\n",
       "    }\n",
       "\n",
       "    .dataframe tbody tr th {\n",
       "        vertical-align: top;\n",
       "    }\n",
       "\n",
       "    .dataframe thead th {\n",
       "        text-align: right;\n",
       "    }\n",
       "</style>\n",
       "<table border=\"1\" class=\"dataframe\">\n",
       "  <thead>\n",
       "    <tr style=\"text-align: right;\">\n",
       "      <th></th>\n",
       "      <th>index</th>\n",
       "      <th>mid</th>\n",
       "      <th>display_name</th>\n",
       "    </tr>\n",
       "  </thead>\n",
       "  <tbody>\n",
       "    <tr>\n",
       "      <th>0</th>\n",
       "      <td>0</td>\n",
       "      <td>/m/09x0r</td>\n",
       "      <td>Speech</td>\n",
       "    </tr>\n",
       "    <tr>\n",
       "      <th>1</th>\n",
       "      <td>1</td>\n",
       "      <td>/m/05zppz</td>\n",
       "      <td>Male speech, man speaking</td>\n",
       "    </tr>\n",
       "    <tr>\n",
       "      <th>2</th>\n",
       "      <td>2</td>\n",
       "      <td>/m/02zsn</td>\n",
       "      <td>Female speech, woman speaking</td>\n",
       "    </tr>\n",
       "    <tr>\n",
       "      <th>3</th>\n",
       "      <td>3</td>\n",
       "      <td>/m/0ytgt</td>\n",
       "      <td>Child speech, kid speaking</td>\n",
       "    </tr>\n",
       "    <tr>\n",
       "      <th>4</th>\n",
       "      <td>4</td>\n",
       "      <td>/m/01h8n0</td>\n",
       "      <td>Conversation</td>\n",
       "    </tr>\n",
       "  </tbody>\n",
       "</table>\n",
       "</div>"
      ],
      "text/plain": [
       "   index        mid                   display_name\n",
       "0      0   /m/09x0r                         Speech\n",
       "1      1  /m/05zppz      Male speech, man speaking\n",
       "2      2   /m/02zsn  Female speech, woman speaking\n",
       "3      3   /m/0ytgt     Child speech, kid speaking\n",
       "4      4  /m/01h8n0                   Conversation"
      ]
     },
     "execution_count": 1008,
     "metadata": {},
     "output_type": "execute_result"
    }
   ],
   "source": [
    "audioset_labels.head()"
   ]
  },
  {
   "cell_type": "code",
   "execution_count": 1009,
   "metadata": {},
   "outputs": [],
   "source": [
    " index_list = [\n",
    " 72,\n",
    " 73,\n",
    " 74,\n",
    " 75,\n",
    " 77,\n",
    " 79,\n",
    " 80,\n",
    " 81,\n",
    " 82,\n",
    " 83,\n",
    " 84,\n",
    " 85,\n",
    " 86,\n",
    " 87,\n",
    " 88,\n",
    " 89,\n",
    " 90,\n",
    " 91,\n",
    " 93,\n",
    " 94,\n",
    " 95,\n",
    " 96,\n",
    " 97,\n",
    " 98,\n",
    " 99,\n",
    "100,\n",
    "101,\n",
    "102,\n",
    "103,\n",
    "104,\n",
    "105,\n",
    "106,\n",
    "108,\n",
    "109,\n",
    "110,\n",
    "111,\n",
    "112,\n",
    "113,\n",
    "114,\n",
    "115,\n",
    "116,\n",
    "117,\n",
    "118,\n",
    "119,\n",
    "120,\n",
    "121,\n",
    "122,\n",
    "123,\n",
    "124,\n",
    "125,\n",
    "126,\n",
    "127,\n",
    "128,\n",
    "129,\n",
    "130,\n",
    "131,\n",
    "132,\n",
    "133,\n",
    "134,\n",
    "135,\n",
    "136 ]"
   ]
  },
  {
   "cell_type": "code",
   "execution_count": 1010,
   "metadata": {},
   "outputs": [
    {
     "data": {
      "text/plain": [
       "61"
      ]
     },
     "execution_count": 1010,
     "metadata": {},
     "output_type": "execute_result"
    }
   ],
   "source": [
    "len(index_list)"
   ]
  },
  {
   "cell_type": "code",
   "execution_count": 1011,
   "metadata": {},
   "outputs": [
    {
     "name": "stdout",
     "output_type": "stream",
     "text": [
      "(61, 3)\n"
     ]
    }
   ],
   "source": [
    "# Only use animal labels\n",
    "audioset_labels = audioset_labels.iloc[index_list]\n",
    "print(audioset_labels.shape)"
   ]
  },
  {
   "cell_type": "code",
   "execution_count": 1012,
   "metadata": {},
   "outputs": [],
   "source": [
    "#with pd.option_context('display.max_rows', None, 'display.max_columns', None):  # more options can be specified also\n",
    "#    print(audioset_labels)"
   ]
  },
  {
   "cell_type": "code",
   "execution_count": 1013,
   "metadata": {},
   "outputs": [],
   "source": [
    "# Add column indicating if data has a single label or multiple labels\n",
    "#  audioset_bal_train['singlelabel'] = audioset_bal_train[' positive_labels'].str.endswith('\"')\n",
    "#  audioset_eval['singlelabel'] = audioset_bal_train[' positive_labels'].str.endswith('\"')"
   ]
  },
  {
   "cell_type": "code",
   "execution_count": 1014,
   "metadata": {},
   "outputs": [
    {
     "name": "stdout",
     "output_type": "stream",
     "text": [
      "Train shape: (22160, 16)\n",
      "Eval shape: (20373, 15)\n"
     ]
    }
   ],
   "source": [
    "print(\"Train shape:\", audioset_bal_train.shape)\n",
    "print(\"Eval shape:\", audioset_eval.shape)"
   ]
  },
  {
   "cell_type": "code",
   "execution_count": 1015,
   "metadata": {},
   "outputs": [
    {
     "name": "stdout",
     "output_type": "stream",
     "text": [
      "['/m/0jbk', '/m/068hy', '/m/0bt9lr', '/m/05tny_', '/m/07qf0zm', '/m/0ghcn6', '/t/dd00136', '/m/01yrx', '/m/02yds9', '/m/07qrkrw', '/m/07rjwbb', '/m/07r81j2', '/m/0ch8v', '/m/03k3r', '/m/07rv9rh', '/m/07q5rw0', '/m/01xq0k1', '/m/07rpkh9', '/m/068zj', '/t/dd00018', '/m/03fwl', '/m/07q0h5t', '/m/07bgp', '/m/025rv6n', '/m/09b5t', '/m/07st89h', '/m/07qn5dc', '/m/01rd7k', '/m/07svc2k', '/m/09ddx', '/m/07qdb04', '/m/0dbvp', '/m/01280g', '/m/0cdnk', '/m/04cvmfc', '/m/015p6', '/m/020bb7', '/m/07pggtn', '/m/07sx8x_', '/m/0h0rv', '/m/07r_25d', '/m/04s8yn', '/m/07r5c2p', '/m/09d5_', '/m/07r_80w', '/m/05_wcq', '/m/01z5f', '/m/06hps', '/m/04rmv', '/m/07r4gkf', '/m/03vt0', '/m/09xqv', '/m/09f96', '/m/0h2mp', '/m/07pjwq1', '/m/01h3n', '/m/09ld4', '/m/07st88b', '/m/078jl', '/m/07qn4z3', '/m/032n05']\n"
     ]
    }
   ],
   "source": [
    "label_list = audioset_labels['mid'].tolist()\n",
    "print(label_list)"
   ]
  },
  {
   "cell_type": "code",
   "execution_count": 1016,
   "metadata": {},
   "outputs": [
    {
     "data": {
      "text/html": [
       "<div>\n",
       "<style scoped>\n",
       "    .dataframe tbody tr th:only-of-type {\n",
       "        vertical-align: middle;\n",
       "    }\n",
       "\n",
       "    .dataframe tbody tr th {\n",
       "        vertical-align: top;\n",
       "    }\n",
       "\n",
       "    .dataframe thead th {\n",
       "        text-align: right;\n",
       "    }\n",
       "</style>\n",
       "<table border=\"1\" class=\"dataframe\">\n",
       "  <thead>\n",
       "    <tr style=\"text-align: right;\">\n",
       "      <th></th>\n",
       "      <th># YTID</th>\n",
       "      <th>start_seconds</th>\n",
       "      <th>end_seconds</th>\n",
       "      <th>all_labels</th>\n",
       "      <th>Unnamed: 3</th>\n",
       "      <th>Unnamed: 4</th>\n",
       "      <th>Unnamed: 5</th>\n",
       "      <th>Unnamed: 6</th>\n",
       "      <th>Unnamed: 7</th>\n",
       "      <th>Unnamed: 8</th>\n",
       "      <th>Unnamed: 9</th>\n",
       "      <th>Unnamed: 10</th>\n",
       "      <th>Unnamed: 11</th>\n",
       "      <th>Unnamed: 12</th>\n",
       "      <th>Unnamed: 13</th>\n",
       "      <th>Unnamed: 14</th>\n",
       "    </tr>\n",
       "  </thead>\n",
       "  <tbody>\n",
       "    <tr>\n",
       "      <th>0</th>\n",
       "      <td>#NAME?</td>\n",
       "      <td>30.0</td>\n",
       "      <td>40.0</td>\n",
       "      <td>\"/m/09x0r,/t/dd00088\"</td>\n",
       "      <td>/m/09x0r</td>\n",
       "      <td>/t/dd00088</td>\n",
       "      <td></td>\n",
       "      <td></td>\n",
       "      <td></td>\n",
       "      <td></td>\n",
       "      <td></td>\n",
       "      <td></td>\n",
       "      <td></td>\n",
       "      <td></td>\n",
       "      <td></td>\n",
       "      <td></td>\n",
       "    </tr>\n",
       "    <tr>\n",
       "      <th>1</th>\n",
       "      <td>#NAME?</td>\n",
       "      <td>50.0</td>\n",
       "      <td>60.0</td>\n",
       "      <td>\"/m/012xff\"</td>\n",
       "      <td>/m/012xff</td>\n",
       "      <td></td>\n",
       "      <td></td>\n",
       "      <td></td>\n",
       "      <td></td>\n",
       "      <td></td>\n",
       "      <td></td>\n",
       "      <td></td>\n",
       "      <td></td>\n",
       "      <td></td>\n",
       "      <td></td>\n",
       "      <td></td>\n",
       "    </tr>\n",
       "    <tr>\n",
       "      <th>2</th>\n",
       "      <td>#NAME?</td>\n",
       "      <td>0.0</td>\n",
       "      <td>10.0</td>\n",
       "      <td>\"/m/03fwl,/m/04rlf,/m/09x0r\"</td>\n",
       "      <td>/m/03fwl</td>\n",
       "      <td>/m/04rlf</td>\n",
       "      <td>/m/09x0r</td>\n",
       "      <td></td>\n",
       "      <td></td>\n",
       "      <td></td>\n",
       "      <td></td>\n",
       "      <td></td>\n",
       "      <td></td>\n",
       "      <td></td>\n",
       "      <td></td>\n",
       "      <td></td>\n",
       "    </tr>\n",
       "    <tr>\n",
       "      <th>3</th>\n",
       "      <td>#NAME?</td>\n",
       "      <td>30.0</td>\n",
       "      <td>40.0</td>\n",
       "      <td>\"/t/dd00003,/t/dd00005\"</td>\n",
       "      <td>/t/dd00003</td>\n",
       "      <td>/t/dd00005</td>\n",
       "      <td></td>\n",
       "      <td></td>\n",
       "      <td></td>\n",
       "      <td></td>\n",
       "      <td></td>\n",
       "      <td></td>\n",
       "      <td></td>\n",
       "      <td></td>\n",
       "      <td></td>\n",
       "      <td></td>\n",
       "    </tr>\n",
       "    <tr>\n",
       "      <th>4</th>\n",
       "      <td>#NAME?</td>\n",
       "      <td>200.0</td>\n",
       "      <td>210.0</td>\n",
       "      <td>\"/m/032s66,/m/073cg4\"</td>\n",
       "      <td>/m/032s66</td>\n",
       "      <td>/m/073cg4</td>\n",
       "      <td></td>\n",
       "      <td></td>\n",
       "      <td></td>\n",
       "      <td></td>\n",
       "      <td></td>\n",
       "      <td></td>\n",
       "      <td></td>\n",
       "      <td></td>\n",
       "      <td></td>\n",
       "      <td></td>\n",
       "    </tr>\n",
       "  </tbody>\n",
       "</table>\n",
       "</div>"
      ],
      "text/plain": [
       "   # YTID   start_seconds   end_seconds                     all_labels  \\\n",
       "0  #NAME?            30.0          40.0          \"/m/09x0r,/t/dd00088\"   \n",
       "1  #NAME?            50.0          60.0                    \"/m/012xff\"   \n",
       "2  #NAME?             0.0          10.0   \"/m/03fwl,/m/04rlf,/m/09x0r\"   \n",
       "3  #NAME?            30.0          40.0        \"/t/dd00003,/t/dd00005\"   \n",
       "4  #NAME?           200.0         210.0          \"/m/032s66,/m/073cg4\"   \n",
       "\n",
       "   Unnamed: 3  Unnamed: 4 Unnamed: 5 Unnamed: 6 Unnamed: 7 Unnamed: 8  \\\n",
       "0    /m/09x0r  /t/dd00088                                               \n",
       "1   /m/012xff                                                           \n",
       "2    /m/03fwl    /m/04rlf   /m/09x0r                                    \n",
       "3  /t/dd00003  /t/dd00005                                               \n",
       "4   /m/032s66   /m/073cg4                                               \n",
       "\n",
       "  Unnamed: 9 Unnamed: 10 Unnamed: 11 Unnamed: 12 Unnamed: 13 Unnamed: 14  \n",
       "0                                                                         \n",
       "1                                                                         \n",
       "2                                                                         \n",
       "3                                                                         \n",
       "4                                                                         "
      ]
     },
     "execution_count": 1016,
     "metadata": {},
     "output_type": "execute_result"
    }
   ],
   "source": [
    "audioset_bal_train.head()"
   ]
  },
  {
   "cell_type": "code",
   "execution_count": null,
   "metadata": {},
   "outputs": [],
   "source": []
  },
  {
   "cell_type": "code",
   "execution_count": 1017,
   "metadata": {},
   "outputs": [],
   "source": [
    "audioset_bal_train['animal_sound'] = audioset_bal_train['all_labels'].apply(contains_animal_label)\n",
    "audioset_eval['animal_sound'] = audioset_eval['all_labels'].apply(contains_animal_label)"
   ]
  },
  {
   "cell_type": "code",
   "execution_count": 1018,
   "metadata": {},
   "outputs": [],
   "source": [
    "audioset_bal_train['only_animal'] = audioset_bal_train['all_labels'].apply(contains_only_animal_label)\n",
    "audioset_eval['only_animal'] = audioset_eval['all_labels'].apply(contains_only_animal_label)"
   ]
  },
  {
   "cell_type": "code",
   "execution_count": 1019,
   "metadata": {
    "scrolled": true
   },
   "outputs": [
    {
     "name": "stdout",
     "output_type": "stream",
     "text": [
      "Balanced train data:\n",
      "(2391, 18)\n",
      "Eval data\n",
      "(2206, 17)\n"
     ]
    }
   ],
   "source": [
    "# Fitler all non-animal data\n",
    "#audioset_bal_train = audioset_bal_train[audioset_bal_train[' positive_labels'].isin(label_list)]\n",
    "audioset_bal_train = audioset_bal_train[audioset_bal_train['animal_sound'] == True]\n",
    "print(\"Balanced train data:\")\n",
    "print(audioset_bal_train.shape)\n",
    "#print(audioset_bal_train.head())\n",
    "\n",
    "#  print(\"Unbalanced train data:\")\n",
    "#  audioset_unbal_train[audioset_unbal_train[' positive_labels'].isin(label_list)]\n",
    "#  audioset_unbal_train.shape\n",
    "\n",
    "audioset_eval = audioset_eval[audioset_eval['animal_sound'] == True]\n",
    "print(\"Eval data\")\n",
    "print(audioset_eval.shape)\n",
    "#print(audioset_eval.head())"
   ]
  },
  {
   "cell_type": "code",
   "execution_count": 1020,
   "metadata": {},
   "outputs": [
    {
     "name": "stdout",
     "output_type": "stream",
     "text": [
      "Balanced train data:\n",
      "(0, 18)\n"
     ]
    }
   ],
   "source": [
    "# Is there any data will only animal sounds?....No? Maybe I scrubbed off too many labels when editing\n",
    "only_animal = audioset_bal_train[audioset_bal_train['only_animal'] == True]\n",
    "print(\"Balanced train data:\")\n",
    "print(only_animal.shape)"
   ]
  },
  {
   "cell_type": "code",
   "execution_count": 1021,
   "metadata": {},
   "outputs": [],
   "source": [
    "# Filter all wavs with multiple labels\n",
    "#audioset_bal_train = audioset_bal_train.loc[temp_df['singlelabel'] == True]\n",
    "#print(\"Balanced train data:\")\n",
    "#print(audioset_bal_train.shape)\n",
    "\n",
    "#  print(\"Unbalanced train data:\")\n",
    "#  audioset_unbal_train[audioset_unbal_train[' positive_labels'].isin(label_list)]\n",
    "#  audioset_unbal_train.shape\n",
    "\n",
    "#audioset_eval = audioset_eval.loc[audioset_eval['singlelabel'] == False]\n",
    "#print(\"Eval data\")\n",
    "#print(audioset_eval.shape)"
   ]
  },
  {
   "cell_type": "code",
   "execution_count": 1022,
   "metadata": {},
   "outputs": [],
   "source": [
    "# Save filtered data frames\n",
    "audioset_bal_train.to_csv('data/balanced_train_segments-animals.csv', header=True, index=False)\n",
    "audioset_eval.to_csv('data/eval_segments-animals.csv', header=True, index=False)\n",
    "audioset_labels.to_csv('data/class_labels_indices-animals.csv', header=True, index=False)"
   ]
  },
  {
   "cell_type": "code",
   "execution_count": 1023,
   "metadata": {},
   "outputs": [],
   "source": [
    "%config InlineBackend.figure_format = 'retina' #set 'png' here when working on notebook\n",
    "%matplotlib inline"
   ]
  },
  {
   "cell_type": "markdown",
   "metadata": {},
   "source": [
    "## Everything after this needs to be updated"
   ]
  },
  {
   "cell_type": "code",
   "execution_count": 1024,
   "metadata": {},
   "outputs": [
    {
     "data": {
      "text/html": [
       "<div>\n",
       "<style scoped>\n",
       "    .dataframe tbody tr th:only-of-type {\n",
       "        vertical-align: middle;\n",
       "    }\n",
       "\n",
       "    .dataframe tbody tr th {\n",
       "        vertical-align: top;\n",
       "    }\n",
       "\n",
       "    .dataframe thead th {\n",
       "        text-align: right;\n",
       "    }\n",
       "</style>\n",
       "<table border=\"1\" class=\"dataframe\">\n",
       "  <thead>\n",
       "    <tr style=\"text-align: right;\">\n",
       "      <th></th>\n",
       "      <th># YTID</th>\n",
       "      <th>start_seconds</th>\n",
       "      <th>end_seconds</th>\n",
       "      <th>all_labels</th>\n",
       "      <th>Unnamed: 3</th>\n",
       "      <th>Unnamed: 4</th>\n",
       "      <th>Unnamed: 5</th>\n",
       "      <th>Unnamed: 6</th>\n",
       "      <th>Unnamed: 7</th>\n",
       "      <th>Unnamed: 8</th>\n",
       "      <th>Unnamed: 9</th>\n",
       "      <th>Unnamed: 10</th>\n",
       "      <th>Unnamed: 11</th>\n",
       "      <th>Unnamed: 12</th>\n",
       "      <th>Unnamed: 13</th>\n",
       "      <th>Unnamed: 14</th>\n",
       "      <th>animal_sound</th>\n",
       "      <th>only_animal</th>\n",
       "    </tr>\n",
       "  </thead>\n",
       "  <tbody>\n",
       "    <tr>\n",
       "      <th>2</th>\n",
       "      <td>#NAME?</td>\n",
       "      <td>0.0</td>\n",
       "      <td>10.0</td>\n",
       "      <td>\"/m/03fwl,/m/04rlf,/m/09x0r\"</td>\n",
       "      <td>/m/03fwl</td>\n",
       "      <td>/m/04rlf</td>\n",
       "      <td>/m/09x0r</td>\n",
       "      <td></td>\n",
       "      <td></td>\n",
       "      <td></td>\n",
       "      <td></td>\n",
       "      <td></td>\n",
       "      <td></td>\n",
       "      <td></td>\n",
       "      <td></td>\n",
       "      <td></td>\n",
       "      <td>True</td>\n",
       "      <td>False</td>\n",
       "    </tr>\n",
       "    <tr>\n",
       "      <th>15</th>\n",
       "      <td>-11LhdJgBb8</td>\n",
       "      <td>30.0</td>\n",
       "      <td>40.0</td>\n",
       "      <td>\"/m/04rlf,/m/07qn4z3\"</td>\n",
       "      <td>/m/04rlf</td>\n",
       "      <td>/m/07qn4z3</td>\n",
       "      <td></td>\n",
       "      <td></td>\n",
       "      <td></td>\n",
       "      <td></td>\n",
       "      <td></td>\n",
       "      <td></td>\n",
       "      <td></td>\n",
       "      <td></td>\n",
       "      <td></td>\n",
       "      <td></td>\n",
       "      <td>True</td>\n",
       "      <td>False</td>\n",
       "    </tr>\n",
       "    <tr>\n",
       "      <th>29</th>\n",
       "      <td>-3IYpJfLVJk</td>\n",
       "      <td>30.0</td>\n",
       "      <td>40.0</td>\n",
       "      <td>\"/m/03k3r,/m/07q5rw0,/m/0jbk\"</td>\n",
       "      <td>/m/03k3r</td>\n",
       "      <td>/m/07q5rw0</td>\n",
       "      <td>/m/0jbk</td>\n",
       "      <td></td>\n",
       "      <td></td>\n",
       "      <td></td>\n",
       "      <td></td>\n",
       "      <td></td>\n",
       "      <td></td>\n",
       "      <td></td>\n",
       "      <td></td>\n",
       "      <td></td>\n",
       "      <td>True</td>\n",
       "      <td>False</td>\n",
       "    </tr>\n",
       "    <tr>\n",
       "      <th>45</th>\n",
       "      <td>-64xnyOswXA</td>\n",
       "      <td>120.0</td>\n",
       "      <td>130.0</td>\n",
       "      <td>\"/m/0cdnk\"</td>\n",
       "      <td>/m/0cdnk</td>\n",
       "      <td></td>\n",
       "      <td></td>\n",
       "      <td></td>\n",
       "      <td></td>\n",
       "      <td></td>\n",
       "      <td></td>\n",
       "      <td></td>\n",
       "      <td></td>\n",
       "      <td></td>\n",
       "      <td></td>\n",
       "      <td></td>\n",
       "      <td>True</td>\n",
       "      <td>False</td>\n",
       "    </tr>\n",
       "    <tr>\n",
       "      <th>54</th>\n",
       "      <td>-6x2PtSRfJU</td>\n",
       "      <td>30.0</td>\n",
       "      <td>40.0</td>\n",
       "      <td>\"/m/01yrx,/m/068hy,/m/07qrkrw,/m/09x0r\"</td>\n",
       "      <td>/m/01yrx</td>\n",
       "      <td>/m/068hy</td>\n",
       "      <td>/m/07qrkrw</td>\n",
       "      <td>/m/09x0r</td>\n",
       "      <td></td>\n",
       "      <td></td>\n",
       "      <td></td>\n",
       "      <td></td>\n",
       "      <td></td>\n",
       "      <td></td>\n",
       "      <td></td>\n",
       "      <td></td>\n",
       "      <td>True</td>\n",
       "      <td>False</td>\n",
       "    </tr>\n",
       "  </tbody>\n",
       "</table>\n",
       "</div>"
      ],
      "text/plain": [
       "         # YTID   start_seconds   end_seconds  \\\n",
       "2        #NAME?             0.0          10.0   \n",
       "15  -11LhdJgBb8            30.0          40.0   \n",
       "29  -3IYpJfLVJk            30.0          40.0   \n",
       "45  -64xnyOswXA           120.0         130.0   \n",
       "54  -6x2PtSRfJU            30.0          40.0   \n",
       "\n",
       "                                  all_labels Unnamed: 3  Unnamed: 4  \\\n",
       "2               \"/m/03fwl,/m/04rlf,/m/09x0r\"   /m/03fwl    /m/04rlf   \n",
       "15                     \"/m/04rlf,/m/07qn4z3\"   /m/04rlf  /m/07qn4z3   \n",
       "29             \"/m/03k3r,/m/07q5rw0,/m/0jbk\"   /m/03k3r  /m/07q5rw0   \n",
       "45                                \"/m/0cdnk\"   /m/0cdnk               \n",
       "54   \"/m/01yrx,/m/068hy,/m/07qrkrw,/m/09x0r\"   /m/01yrx    /m/068hy   \n",
       "\n",
       "    Unnamed: 5 Unnamed: 6 Unnamed: 7 Unnamed: 8 Unnamed: 9 Unnamed: 10  \\\n",
       "2     /m/09x0r                                                           \n",
       "15                                                                       \n",
       "29     /m/0jbk                                                           \n",
       "45                                                                       \n",
       "54  /m/07qrkrw   /m/09x0r                                                \n",
       "\n",
       "   Unnamed: 11 Unnamed: 12 Unnamed: 13 Unnamed: 14  animal_sound  only_animal  \n",
       "2                                                           True        False  \n",
       "15                                                          True        False  \n",
       "29                                                          True        False  \n",
       "45                                                          True        False  \n",
       "54                                                          True        False  "
      ]
     },
     "execution_count": 1024,
     "metadata": {},
     "output_type": "execute_result"
    }
   ],
   "source": [
    "# Create temp_df so that we can scrub the positive_label column and perform some operations to view the data\n",
    "temp_df = audioset_bal_train.copy()\n",
    "temp_df.head()"
   ]
  },
  {
   "cell_type": "code",
   "execution_count": 1025,
   "metadata": {},
   "outputs": [
    {
     "data": {
      "text/html": [
       "<div>\n",
       "<style scoped>\n",
       "    .dataframe tbody tr th:only-of-type {\n",
       "        vertical-align: middle;\n",
       "    }\n",
       "\n",
       "    .dataframe tbody tr th {\n",
       "        vertical-align: top;\n",
       "    }\n",
       "\n",
       "    .dataframe thead th {\n",
       "        text-align: right;\n",
       "    }\n",
       "</style>\n",
       "<table border=\"1\" class=\"dataframe\">\n",
       "  <thead>\n",
       "    <tr style=\"text-align: right;\">\n",
       "      <th></th>\n",
       "      <th>Unnamed: 3</th>\n",
       "    </tr>\n",
       "  </thead>\n",
       "  <tbody>\n",
       "    <tr>\n",
       "      <th>/m/04rlf</th>\n",
       "      <td>193</td>\n",
       "    </tr>\n",
       "    <tr>\n",
       "      <th>/m/015p6</th>\n",
       "      <td>171</td>\n",
       "    </tr>\n",
       "    <tr>\n",
       "      <th>/m/068hy</th>\n",
       "      <td>157</td>\n",
       "    </tr>\n",
       "    <tr>\n",
       "      <th>/m/025rv6n</th>\n",
       "      <td>133</td>\n",
       "    </tr>\n",
       "    <tr>\n",
       "      <th>/m/01yrx</th>\n",
       "      <td>120</td>\n",
       "    </tr>\n",
       "  </tbody>\n",
       "</table>\n",
       "</div>"
      ],
      "text/plain": [
       "            Unnamed: 3\n",
       "/m/04rlf           193\n",
       "/m/015p6           171\n",
       "/m/068hy           157\n",
       "/m/025rv6n         133\n",
       "/m/01yrx           120"
      ]
     },
     "execution_count": 1025,
     "metadata": {},
     "output_type": "execute_result"
    }
   ],
   "source": [
    "df = temp_df['Unnamed: 3'].value_counts().to_frame()\n",
    "df.head()"
   ]
  },
  {
   "cell_type": "code",
   "execution_count": 1026,
   "metadata": {},
   "outputs": [
    {
     "data": {
      "text/plain": [
       "Index(['Unnamed: 3'], dtype='object')"
      ]
     },
     "execution_count": 1026,
     "metadata": {},
     "output_type": "execute_result"
    }
   ],
   "source": [
    "df.columns"
   ]
  },
  {
   "cell_type": "code",
   "execution_count": 1027,
   "metadata": {},
   "outputs": [
    {
     "data": {
      "text/html": [
       "<div>\n",
       "<style scoped>\n",
       "    .dataframe tbody tr th:only-of-type {\n",
       "        vertical-align: middle;\n",
       "    }\n",
       "\n",
       "    .dataframe tbody tr th {\n",
       "        vertical-align: top;\n",
       "    }\n",
       "\n",
       "    .dataframe thead th {\n",
       "        text-align: right;\n",
       "    }\n",
       "</style>\n",
       "<table border=\"1\" class=\"dataframe\">\n",
       "  <thead>\n",
       "    <tr style=\"text-align: right;\">\n",
       "      <th></th>\n",
       "      <th>Unnamed: 3</th>\n",
       "      <th>mid</th>\n",
       "    </tr>\n",
       "  </thead>\n",
       "  <tbody>\n",
       "    <tr>\n",
       "      <th>/m/04rlf</th>\n",
       "      <td>193</td>\n",
       "      <td>/m/04rlf</td>\n",
       "    </tr>\n",
       "    <tr>\n",
       "      <th>/m/015p6</th>\n",
       "      <td>171</td>\n",
       "      <td>/m/015p6</td>\n",
       "    </tr>\n",
       "    <tr>\n",
       "      <th>/m/068hy</th>\n",
       "      <td>157</td>\n",
       "      <td>/m/068hy</td>\n",
       "    </tr>\n",
       "    <tr>\n",
       "      <th>/m/025rv6n</th>\n",
       "      <td>133</td>\n",
       "      <td>/m/025rv6n</td>\n",
       "    </tr>\n",
       "    <tr>\n",
       "      <th>/m/01yrx</th>\n",
       "      <td>120</td>\n",
       "      <td>/m/01yrx</td>\n",
       "    </tr>\n",
       "  </tbody>\n",
       "</table>\n",
       "</div>"
      ],
      "text/plain": [
       "            Unnamed: 3         mid\n",
       "/m/04rlf           193    /m/04rlf\n",
       "/m/015p6           171    /m/015p6\n",
       "/m/068hy           157    /m/068hy\n",
       "/m/025rv6n         133  /m/025rv6n\n",
       "/m/01yrx           120    /m/01yrx"
      ]
     },
     "execution_count": 1027,
     "metadata": {},
     "output_type": "execute_result"
    }
   ],
   "source": [
    "#df.reset_index(inplace=True)\n",
    "df['mid'] = df.index\n",
    "df.head()"
   ]
  },
  {
   "cell_type": "code",
   "execution_count": 1028,
   "metadata": {},
   "outputs": [],
   "source": [
    "#df.columns = ['mid', 'count']\n",
    "df.rename(columns={'Unnamed: 3': 'count'}, inplace=True)\n",
    "df['display_name'] = df['mid'].apply(get_display_name_from_mid)"
   ]
  },
  {
   "cell_type": "code",
   "execution_count": 1029,
   "metadata": {},
   "outputs": [
    {
     "data": {
      "text/html": [
       "<div>\n",
       "<style scoped>\n",
       "    .dataframe tbody tr th:only-of-type {\n",
       "        vertical-align: middle;\n",
       "    }\n",
       "\n",
       "    .dataframe tbody tr th {\n",
       "        vertical-align: top;\n",
       "    }\n",
       "\n",
       "    .dataframe thead th {\n",
       "        text-align: right;\n",
       "    }\n",
       "</style>\n",
       "<table border=\"1\" class=\"dataframe\">\n",
       "  <thead>\n",
       "    <tr style=\"text-align: right;\">\n",
       "      <th></th>\n",
       "      <th>count</th>\n",
       "      <th>mid</th>\n",
       "      <th>display_name</th>\n",
       "    </tr>\n",
       "  </thead>\n",
       "  <tbody>\n",
       "    <tr>\n",
       "      <th>/m/04rlf</th>\n",
       "      <td>193</td>\n",
       "      <td>/m/04rlf</td>\n",
       "      <td>Music</td>\n",
       "    </tr>\n",
       "    <tr>\n",
       "      <th>/m/015p6</th>\n",
       "      <td>171</td>\n",
       "      <td>/m/015p6</td>\n",
       "      <td>Bird</td>\n",
       "    </tr>\n",
       "    <tr>\n",
       "      <th>/m/068hy</th>\n",
       "      <td>157</td>\n",
       "      <td>/m/068hy</td>\n",
       "      <td>Domestic animals, pets</td>\n",
       "    </tr>\n",
       "    <tr>\n",
       "      <th>/m/025rv6n</th>\n",
       "      <td>133</td>\n",
       "      <td>/m/025rv6n</td>\n",
       "      <td>Fowl</td>\n",
       "    </tr>\n",
       "    <tr>\n",
       "      <th>/m/01yrx</th>\n",
       "      <td>120</td>\n",
       "      <td>/m/01yrx</td>\n",
       "      <td>Cat</td>\n",
       "    </tr>\n",
       "  </tbody>\n",
       "</table>\n",
       "</div>"
      ],
      "text/plain": [
       "            count         mid            display_name\n",
       "/m/04rlf      193    /m/04rlf                   Music\n",
       "/m/015p6      171    /m/015p6                    Bird\n",
       "/m/068hy      157    /m/068hy  Domestic animals, pets\n",
       "/m/025rv6n    133  /m/025rv6n                    Fowl\n",
       "/m/01yrx      120    /m/01yrx                     Cat"
      ]
     },
     "execution_count": 1029,
     "metadata": {},
     "output_type": "execute_result"
    }
   ],
   "source": [
    "df.head()"
   ]
  },
  {
   "cell_type": "code",
   "execution_count": 1030,
   "metadata": {},
   "outputs": [
    {
     "data": {
      "text/plain": [
       "Index(['count', 'mid', 'display_name'], dtype='object')"
      ]
     },
     "execution_count": 1030,
     "metadata": {},
     "output_type": "execute_result"
    }
   ],
   "source": [
    "df.columns"
   ]
  },
  {
   "cell_type": "code",
   "execution_count": 1031,
   "metadata": {},
   "outputs": [
    {
     "name": "stdout",
     "output_type": "stream",
     "text": [
      "            count         mid                             display_name\n",
      "/m/04rlf      193    /m/04rlf                                    Music\n",
      "/m/015p6      171    /m/015p6                                     Bird\n",
      "/m/068hy      157    /m/068hy                   Domestic animals, pets\n",
      "/m/025rv6n    133  /m/025rv6n                                     Fowl\n",
      "/m/01yrx      120    /m/01yrx                                      Cat\n",
      "/m/03vt0      104    /m/03vt0                                   Insect\n",
      "/m/03k3r       77    /m/03k3r                                    Horse\n",
      "/m/01xq0k1     62  /m/01xq0k1                          Cattle, bovinae\n",
      "/m/01280g      61   /m/01280g                             Wild animals\n",
      "/m/07r_80w     60  /m/07r_80w                                     Hoot\n",
      "/m/01h3n       60    /m/01h3n                          Bee, wasp, etc.\n",
      "/m/032n05      59   /m/032n05                       Whale vocalization\n",
      "/m/07st88b     59  /m/07st88b                                    Croak\n",
      "/m/078jl       59    /m/078jl                                    Snake\n",
      "/m/01z5f       59    /m/01z5f                    Canidae, dogs, wolves\n",
      "/m/05_wcq      56   /m/05_wcq              Bird flight, flapping wings\n",
      "/m/03fwl       56    /m/03fwl                                     Goat\n",
      "/m/06hps       55    /m/06hps                      Rodents, rats, mice\n",
      "/m/04rmv       48    /m/04rmv                                    Mouse\n",
      "/m/01rd7k      47   /m/01rd7k                                   Turkey\n",
      "/m/068zj       43    /m/068zj                                      Pig\n",
      "/m/04s8yn      43   /m/04s8yn                                     Crow\n",
      "/m/07r4gkf     39  /m/07r4gkf                                   Patter\n",
      "/m/07sx8x_     39  /m/07sx8x_                                   Squawk\n",
      "/m/05tny_      39   /m/05tny_                                     Bark\n",
      "/m/07bgp       37    /m/07bgp                                    Sheep\n",
      "/m/04cvmfc     35  /m/04cvmfc                                     Roar\n",
      "/m/07qn4z3     35  /m/07qn4z3                                   Rattle\n",
      "/m/09x0r       34    /m/09x0r                                   Speech\n",
      "/m/07qdb04     32  /m/07qdb04                                    Quack\n",
      "/m/07pjwq1     32  /m/07pjwq1                                     Buzz\n",
      "/m/06hck5      31   /m/06hck5                            Steam whistle\n",
      "/m/02yds9      28   /m/02yds9                                     Purr\n",
      "/m/07rv9rh     16  /m/07rv9rh                                Clip-clop\n",
      "/m/01g50p      13   /m/01g50p                Railroad car, train wagon\n",
      "/t/dd00018     13  /t/dd00018                                     Oink\n",
      "/m/07qf0zm      9  /m/07qf0zm                                     Howl\n",
      "/m/07q5rw0      9  /m/07q5rw0                            Neigh, whinny\n",
      "/m/06wzb        9    /m/06wzb                                    Steam\n",
      "/m/0ghcn6       7   /m/0ghcn6                                 Growling\n",
      "/m/01d3sd       7   /m/01d3sd                                  Snoring\n",
      "/m/0239kh       6   /m/0239kh                                  Cowbell\n",
      "/m/020bb7       6   /m/020bb7  Bird vocalization, bird call, bird song\n",
      "/m/01b_21       6   /m/01b_21                                    Cough\n",
      "/m/0cdnk        6    /m/0cdnk             Roaring cats (lions, tigers)\n",
      "/m/07qrkrw      6  /m/07qrkrw                                     Meow\n",
      "/m/07r5c2p      6  /m/07r5c2p                                      Caw\n",
      "/m/09ddx        5    /m/09ddx                                     Duck\n",
      "/m/02mk9        5    /m/02mk9                                   Engine\n",
      "/m/05r5wn       5   /m/05r5wn                      Rattle (instrument)\n",
      "/m/01j3sz       5   /m/01j3sz                                 Laughter\n",
      "/m/07q0h5t      5  /m/07q0h5t                                    Bleat\n",
      "/m/04zmvq       4   /m/04zmvq                            Train whistle\n",
      "/m/07r4k75      4  /m/07r4k75                                    Grunt\n",
      "/m/07r81j2      4  /m/07r81j2                                Caterwaul\n",
      "/m/04k94        3    /m/04k94                                   Liquid\n",
      "/m/03wwcy       3   /m/03wwcy                                 Doorbell\n",
      "/m/07pbtc8      3  /m/07pbtc8                          Walk, footsteps\n",
      "/m/07qmpdm      3  /m/07qmpdm                                  Clatter\n",
      "/m/02_nn        3    /m/02_nn                                     Fart\n",
      "/m/07q0yl5      2  /m/07q0yl5                                    Snort\n",
      "/m/07rc7d9      2  /m/07rc7d9                                  Bow-wow\n",
      "/m/07pyy8b      2  /m/07pyy8b                                     Pant\n",
      "/m/03qc9zr      2  /m/03qc9zr                                Screaming\n",
      "/m/03cczk       2   /m/03cczk                     Chewing, mastication\n",
      "/m/07r5v4s      2  /m/07r5v4s                                     Drip\n",
      "/m/0bt9lr       2   /m/0bt9lr                                      Dog\n",
      "/m/07r_k2n      2  /m/07r_k2n                                      Yip\n",
      "/m/07p6mqd      2  /m/07p6mqd                                    Slosh\n",
      "/m/04_sv        2    /m/04_sv                               Motorcycle\n",
      "/m/02x984l      2  /m/02x984l                           Mechanical fan\n",
      "/m/01z47d       1   /m/01z47d                              Busy signal\n",
      "/m/028v0c       1   /m/028v0c                                  Silence\n",
      "/m/07p7b8y      1  /m/07p7b8y                       Fill (with liquid)\n",
      "/m/0jbk         1     /m/0jbk                                   Animal\n",
      "/m/01hnzm       1   /m/01hnzm                                 Ringtone\n",
      "/m/012xff       1   /m/012xff                               Toothbrush\n",
      "/m/0130jx       1   /m/0130jx                Sink (filling or washing)\n",
      "/m/06_y0by      1  /m/06_y0by                      Environmental noise\n",
      "/m/012n7d       1   /m/012n7d                        Ambulance (siren)\n",
      "/m/07pqc89      1  /m/07pqc89                         Trickle, dribble\n",
      "/m/02p3nc       1   /m/02p3nc                                   Hiccup\n",
      "/m/07pggtn      1  /m/07pggtn                             Chirp, tweet\n",
      "/m/03cl9h       1   /m/03cl9h           Ice cream truck, ice cream van\n",
      "/m/02rhddq      1  /m/02rhddq                          Reversing beeps\n",
      "/m/0642b4       1   /m/0642b4                   Cupboard open or close\n",
      "/m/0199g        1    /m/0199g                                  Bicycle\n",
      "/m/02dgv        1    /m/02dgv                                     Door\n",
      "/m/015y_n       1   /m/015y_n                              Swing music\n",
      "/m/03p19w       1   /m/03p19w                               Jackhammer\n",
      "/m/07qfr4h      1  /m/07qfr4h      Hubbub, speech noise, speech babble\n",
      "/m/026z9        1    /m/026z9                                    Disco\n",
      "/m/02_41        1    /m/02_41                                     Fire\n",
      "/m/046dlr       1   /m/046dlr                              Alarm clock\n",
      "/m/0284vy3      1  /m/0284vy3                               Train horn\n",
      "/m/01h8n0       1   /m/01h8n0                             Conversation\n",
      "/m/05zppz       1   /m/05zppz                Male speech, man speaking\n",
      "/m/01jt3m       1   /m/01jt3m                             Toilet flush\n",
      "/m/09t49        1    /m/09t49                          Rustling leaves\n",
      "/m/02v2lh       1   /m/02v2lh                            New-age music\n",
      "/m/06h7j        1    /m/06h7j                                      Run\n",
      "/m/0342h        1    /m/0342h                                   Guitar\n",
      "/m/07ppn3j      1  /m/07ppn3j                                    Sniff\n",
      "/m/07svc2k      1  /m/07svc2k                                   Gobble\n",
      "/m/07mzm6       1   /m/07mzm6                                   Wheeze\n",
      "/m/07q4ntr      1  /m/07q4ntr                                   Bellow\n"
     ]
    }
   ],
   "source": [
    "with pd.option_context('display.max_rows', None, 'display.max_columns', None):  # more options can be specified also\n",
    "    print(df)"
   ]
  },
  {
   "cell_type": "code",
   "execution_count": 1032,
   "metadata": {},
   "outputs": [
    {
     "data": {
      "text/plain": [
       "<matplotlib.axes._subplots.AxesSubplot at 0x1355be4a8>"
      ]
     },
     "execution_count": 1032,
     "metadata": {},
     "output_type": "execute_result"
    },
    {
     "data": {
      "image/png": "[encoded data removed]",
      "text/plain": [
       "<Figure size 432x288 with 1 Axes>"
      ]
     },
     "metadata": {
      "image/png": {
       "height": 444,
       "width": 378
      },
      "needs_background": "light"
     },
     "output_type": "display_data"
    }
   ],
   "source": [
    "hist_df = df.loc[:, ['count', 'display_name','mid']]\n",
    "hist_df.set_index('display_name', inplace=True)\n",
    "hist_df['count'].plot(kind=\"bar\")"
   ]
  },
  {
   "cell_type": "code",
   "execution_count": 1033,
   "metadata": {},
   "outputs": [
    {
     "data": {
      "text/plain": [
       "<matplotlib.axes._subplots.AxesSubplot at 0x133d9da58>"
      ]
     },
     "execution_count": 1033,
     "metadata": {},
     "output_type": "execute_result"
    },
    {
     "data": {
      "image/png": "[encoded data removed]",
      "text/plain": [
       "<Figure size 432x288 with 1 Axes>"
      ]
     },
     "metadata": {
      "image/png": {
       "height": 382,
       "width": 375
      },
      "needs_background": "light"
     },
     "output_type": "display_data"
    }
   ],
   "source": [
    "hist_df = hist_df[hist_df['count'] > 49 ]\n",
    "hist_df['count'].plot(kind='bar')"
   ]
  },
  {
   "cell_type": "code",
   "execution_count": 1034,
   "metadata": {},
   "outputs": [
    {
     "data": {
      "text/html": [
       "<div>\n",
       "<style scoped>\n",
       "    .dataframe tbody tr th:only-of-type {\n",
       "        vertical-align: middle;\n",
       "    }\n",
       "\n",
       "    .dataframe tbody tr th {\n",
       "        vertical-align: top;\n",
       "    }\n",
       "\n",
       "    .dataframe thead th {\n",
       "        text-align: right;\n",
       "    }\n",
       "</style>\n",
       "<table border=\"1\" class=\"dataframe\">\n",
       "  <thead>\n",
       "    <tr style=\"text-align: right;\">\n",
       "      <th></th>\n",
       "      <th>count</th>\n",
       "      <th>mid</th>\n",
       "    </tr>\n",
       "    <tr>\n",
       "      <th>display_name</th>\n",
       "      <th></th>\n",
       "      <th></th>\n",
       "    </tr>\n",
       "  </thead>\n",
       "  <tbody>\n",
       "    <tr>\n",
       "      <th>Music</th>\n",
       "      <td>193</td>\n",
       "      <td>/m/04rlf</td>\n",
       "    </tr>\n",
       "    <tr>\n",
       "      <th>Bird</th>\n",
       "      <td>171</td>\n",
       "      <td>/m/015p6</td>\n",
       "    </tr>\n",
       "    <tr>\n",
       "      <th>Domestic animals, pets</th>\n",
       "      <td>157</td>\n",
       "      <td>/m/068hy</td>\n",
       "    </tr>\n",
       "    <tr>\n",
       "      <th>Fowl</th>\n",
       "      <td>133</td>\n",
       "      <td>/m/025rv6n</td>\n",
       "    </tr>\n",
       "    <tr>\n",
       "      <th>Cat</th>\n",
       "      <td>120</td>\n",
       "      <td>/m/01yrx</td>\n",
       "    </tr>\n",
       "  </tbody>\n",
       "</table>\n",
       "</div>"
      ],
      "text/plain": [
       "                        count         mid\n",
       "display_name                             \n",
       "Music                     193    /m/04rlf\n",
       "Bird                      171    /m/015p6\n",
       "Domestic animals, pets    157    /m/068hy\n",
       "Fowl                      133  /m/025rv6n\n",
       "Cat                       120    /m/01yrx"
      ]
     },
     "execution_count": 1034,
     "metadata": {},
     "output_type": "execute_result"
    }
   ],
   "source": [
    "hist_df.head()"
   ]
  },
  {
   "cell_type": "code",
   "execution_count": 1035,
   "metadata": {},
   "outputs": [
    {
     "name": "stdout",
     "output_type": "stream",
     "text": [
      "['/m/04rlf', '/m/015p6', '/m/068hy', '/m/025rv6n', '/m/01yrx', '/m/03vt0', '/m/03k3r', '/m/01xq0k1', '/m/01280g', '/m/07r_80w', '/m/01h3n', '/m/032n05', '/m/07st88b', '/m/078jl', '/m/01z5f', '/m/05_wcq', '/m/03fwl', '/m/06hps']\n"
     ]
    }
   ],
   "source": [
    "label_list = [ label for label in hist_df['mid'].tolist() ]\n",
    "label_list \n",
    "print(label_list)"
   ]
  },
  {
   "cell_type": "code",
   "execution_count": 1036,
   "metadata": {},
   "outputs": [
    {
     "data": {
      "text/html": [
       "<div>\n",
       "<style scoped>\n",
       "    .dataframe tbody tr th:only-of-type {\n",
       "        vertical-align: middle;\n",
       "    }\n",
       "\n",
       "    .dataframe tbody tr th {\n",
       "        vertical-align: top;\n",
       "    }\n",
       "\n",
       "    .dataframe thead th {\n",
       "        text-align: right;\n",
       "    }\n",
       "</style>\n",
       "<table border=\"1\" class=\"dataframe\">\n",
       "  <thead>\n",
       "    <tr style=\"text-align: right;\">\n",
       "      <th></th>\n",
       "      <th>index</th>\n",
       "      <th>mid</th>\n",
       "      <th>display_name</th>\n",
       "    </tr>\n",
       "  </thead>\n",
       "  <tbody>\n",
       "    <tr>\n",
       "      <th>72</th>\n",
       "      <td>72</td>\n",
       "      <td>/m/0jbk</td>\n",
       "      <td>Animal</td>\n",
       "    </tr>\n",
       "    <tr>\n",
       "      <th>73</th>\n",
       "      <td>73</td>\n",
       "      <td>/m/068hy</td>\n",
       "      <td>Domestic animals, pets</td>\n",
       "    </tr>\n",
       "    <tr>\n",
       "      <th>74</th>\n",
       "      <td>74</td>\n",
       "      <td>/m/0bt9lr</td>\n",
       "      <td>Dog</td>\n",
       "    </tr>\n",
       "    <tr>\n",
       "      <th>75</th>\n",
       "      <td>75</td>\n",
       "      <td>/m/05tny_</td>\n",
       "      <td>Bark</td>\n",
       "    </tr>\n",
       "    <tr>\n",
       "      <th>77</th>\n",
       "      <td>77</td>\n",
       "      <td>/m/07qf0zm</td>\n",
       "      <td>Howl</td>\n",
       "    </tr>\n",
       "  </tbody>\n",
       "</table>\n",
       "</div>"
      ],
      "text/plain": [
       "    index         mid            display_name\n",
       "72     72     /m/0jbk                  Animal\n",
       "73     73    /m/068hy  Domestic animals, pets\n",
       "74     74   /m/0bt9lr                     Dog\n",
       "75     75   /m/05tny_                    Bark\n",
       "77     77  /m/07qf0zm                    Howl"
      ]
     },
     "execution_count": 1036,
     "metadata": {},
     "output_type": "execute_result"
    }
   ],
   "source": [
    "audioset_labels.head()"
   ]
  },
  {
   "cell_type": "code",
   "execution_count": 1037,
   "metadata": {},
   "outputs": [],
   "source": [
    "# Drop Domestic animals, pets and wild animals. Categories are too broad\n",
    "#audioset_bal_train = audioset_bal_train[audioset_bal_train['Unnamed: 3'].isin(filter_list)]\n",
    "#audioset_eval = audioset_eval[audioset_eval['Unnamed: 3'].isin(filter_list)]\n",
    "#audioset_labels = audioset_labels[audioset_labels['mid'].isin(filter_list)]"
   ]
  },
  {
   "cell_type": "code",
   "execution_count": 1038,
   "metadata": {},
   "outputs": [],
   "source": [
    "# Save filtered data frames\n",
    "#audioset_bal_train.to_csv('data/balanced_train_segments-animals.csv', header=True, index=False)\n",
    "#audioset_eval.to_csv('data/eval_segments-animals.csv', header=True, index=False)\n",
    "#audioset_labels.to_csv('data/class_labels_indices-animals.csv', header=True, index=False)"
   ]
  },
  {
   "cell_type": "code",
   "execution_count": 1039,
   "metadata": {},
   "outputs": [
    {
     "name": "stdout",
     "output_type": "stream",
     "text": [
      "Train shape: (2391, 18)\n",
      "Eval shape: (2206, 17)\n"
     ]
    }
   ],
   "source": [
    "print(\"Train shape:\", audioset_bal_train.shape)\n",
    "print(\"Eval shape:\", audioset_eval.shape)"
   ]
  },
  {
   "cell_type": "code",
   "execution_count": 1040,
   "metadata": {},
   "outputs": [
    {
     "data": {
      "text/plain": [
       "'Purr'"
      ]
     },
     "execution_count": 1040,
     "metadata": {},
     "output_type": "execute_result"
    }
   ],
   "source": [
    "get_display_name_from_mid('/m/02yds9')"
   ]
  },
  {
   "cell_type": "code",
   "execution_count": 1052,
   "metadata": {},
   "outputs": [
    {
     "data": {
      "text/html": [
       "<div>\n",
       "<style scoped>\n",
       "    .dataframe tbody tr th:only-of-type {\n",
       "        vertical-align: middle;\n",
       "    }\n",
       "\n",
       "    .dataframe tbody tr th {\n",
       "        vertical-align: top;\n",
       "    }\n",
       "\n",
       "    .dataframe thead th {\n",
       "        text-align: right;\n",
       "    }\n",
       "</style>\n",
       "<table border=\"1\" class=\"dataframe\">\n",
       "  <thead>\n",
       "    <tr style=\"text-align: right;\">\n",
       "      <th></th>\n",
       "      <th>label_id</th>\n",
       "      <th>num_rated</th>\n",
       "      <th>num_true</th>\n",
       "    </tr>\n",
       "  </thead>\n",
       "  <tbody>\n",
       "    <tr>\n",
       "      <th>0</th>\n",
       "      <td>/m/09x0r</td>\n",
       "      <td>10</td>\n",
       "      <td>10</td>\n",
       "    </tr>\n",
       "    <tr>\n",
       "      <th>1</th>\n",
       "      <td>/m/05zppz</td>\n",
       "      <td>10</td>\n",
       "      <td>9</td>\n",
       "    </tr>\n",
       "    <tr>\n",
       "      <th>2</th>\n",
       "      <td>/m/02zsn</td>\n",
       "      <td>10</td>\n",
       "      <td>10</td>\n",
       "    </tr>\n",
       "    <tr>\n",
       "      <th>3</th>\n",
       "      <td>/m/0ytgt</td>\n",
       "      <td>9</td>\n",
       "      <td>9</td>\n",
       "    </tr>\n",
       "    <tr>\n",
       "      <th>4</th>\n",
       "      <td>/m/01h8n0</td>\n",
       "      <td>10</td>\n",
       "      <td>8</td>\n",
       "    </tr>\n",
       "  </tbody>\n",
       "</table>\n",
       "</div>"
      ],
      "text/plain": [
       "    label_id  num_rated  num_true\n",
       "0   /m/09x0r         10        10\n",
       "1  /m/05zppz         10         9\n",
       "2   /m/02zsn         10        10\n",
       "3   /m/0ytgt          9         9\n",
       "4  /m/01h8n0         10         8"
      ]
     },
     "execution_count": 1052,
     "metadata": {},
     "output_type": "execute_result"
    }
   ],
   "source": [
    "qa_true_count.head()"
   ]
  },
  {
   "cell_type": "code",
   "execution_count": 1054,
   "metadata": {},
   "outputs": [
    {
     "data": {
      "text/plain": [
       "array(['label_id', 'num_rated', 'num_true'], dtype=object)"
      ]
     },
     "execution_count": 1054,
     "metadata": {},
     "output_type": "execute_result"
    }
   ],
   "source": [
    "qa_true_count.columns.values"
   ]
  },
  {
   "cell_type": "code",
   "execution_count": 1049,
   "metadata": {},
   "outputs": [
    {
     "data": {
      "text/plain": [
       "array(['count', 'mid'], dtype=object)"
      ]
     },
     "execution_count": 1049,
     "metadata": {},
     "output_type": "execute_result"
    }
   ],
   "source": [
    "hist_df.columns.values"
   ]
  },
  {
   "cell_type": "code",
   "execution_count": 1056,
   "metadata": {},
   "outputs": [],
   "source": [
    "hist_df['true_count'] = hist_df['mid'].apply(get_true_count_from_mid)"
   ]
  },
  {
   "cell_type": "code",
   "execution_count": 1061,
   "metadata": {},
   "outputs": [
    {
     "data": {
      "text/html": [
       "<div>\n",
       "<style scoped>\n",
       "    .dataframe tbody tr th:only-of-type {\n",
       "        vertical-align: middle;\n",
       "    }\n",
       "\n",
       "    .dataframe tbody tr th {\n",
       "        vertical-align: top;\n",
       "    }\n",
       "\n",
       "    .dataframe thead th {\n",
       "        text-align: right;\n",
       "    }\n",
       "</style>\n",
       "<table border=\"1\" class=\"dataframe\">\n",
       "  <thead>\n",
       "    <tr style=\"text-align: right;\">\n",
       "      <th></th>\n",
       "      <th>count</th>\n",
       "      <th>mid</th>\n",
       "      <th>true_count</th>\n",
       "    </tr>\n",
       "    <tr>\n",
       "      <th>display_name</th>\n",
       "      <th></th>\n",
       "      <th></th>\n",
       "      <th></th>\n",
       "    </tr>\n",
       "  </thead>\n",
       "  <tbody>\n",
       "    <tr>\n",
       "      <th>Music</th>\n",
       "      <td>193</td>\n",
       "      <td>/m/04rlf</td>\n",
       "      <td>10</td>\n",
       "    </tr>\n",
       "    <tr>\n",
       "      <th>Bird</th>\n",
       "      <td>171</td>\n",
       "      <td>/m/015p6</td>\n",
       "      <td>10</td>\n",
       "    </tr>\n",
       "    <tr>\n",
       "      <th>Domestic animals, pets</th>\n",
       "      <td>157</td>\n",
       "      <td>/m/068hy</td>\n",
       "      <td>7</td>\n",
       "    </tr>\n",
       "    <tr>\n",
       "      <th>Fowl</th>\n",
       "      <td>133</td>\n",
       "      <td>/m/025rv6n</td>\n",
       "      <td>9</td>\n",
       "    </tr>\n",
       "    <tr>\n",
       "      <th>Cat</th>\n",
       "      <td>120</td>\n",
       "      <td>/m/01yrx</td>\n",
       "      <td>10</td>\n",
       "    </tr>\n",
       "    <tr>\n",
       "      <th>Insect</th>\n",
       "      <td>104</td>\n",
       "      <td>/m/03vt0</td>\n",
       "      <td>8</td>\n",
       "    </tr>\n",
       "    <tr>\n",
       "      <th>Horse</th>\n",
       "      <td>77</td>\n",
       "      <td>/m/03k3r</td>\n",
       "      <td>7</td>\n",
       "    </tr>\n",
       "    <tr>\n",
       "      <th>Cattle, bovinae</th>\n",
       "      <td>62</td>\n",
       "      <td>/m/01xq0k1</td>\n",
       "      <td>8</td>\n",
       "    </tr>\n",
       "    <tr>\n",
       "      <th>Wild animals</th>\n",
       "      <td>61</td>\n",
       "      <td>/m/01280g</td>\n",
       "      <td>8</td>\n",
       "    </tr>\n",
       "    <tr>\n",
       "      <th>Bee, wasp, etc.</th>\n",
       "      <td>60</td>\n",
       "      <td>/m/01h3n</td>\n",
       "      <td>10</td>\n",
       "    </tr>\n",
       "    <tr>\n",
       "      <th>Hoot</th>\n",
       "      <td>60</td>\n",
       "      <td>/m/07r_80w</td>\n",
       "      <td>5</td>\n",
       "    </tr>\n",
       "    <tr>\n",
       "      <th>Croak</th>\n",
       "      <td>59</td>\n",
       "      <td>/m/07st88b</td>\n",
       "      <td>9</td>\n",
       "    </tr>\n",
       "    <tr>\n",
       "      <th>Canidae, dogs, wolves</th>\n",
       "      <td>59</td>\n",
       "      <td>/m/01z5f</td>\n",
       "      <td>8</td>\n",
       "    </tr>\n",
       "    <tr>\n",
       "      <th>Whale vocalization</th>\n",
       "      <td>59</td>\n",
       "      <td>/m/032n05</td>\n",
       "      <td>4</td>\n",
       "    </tr>\n",
       "    <tr>\n",
       "      <th>Snake</th>\n",
       "      <td>59</td>\n",
       "      <td>/m/078jl</td>\n",
       "      <td>4</td>\n",
       "    </tr>\n",
       "    <tr>\n",
       "      <th>Goat</th>\n",
       "      <td>56</td>\n",
       "      <td>/m/03fwl</td>\n",
       "      <td>8</td>\n",
       "    </tr>\n",
       "    <tr>\n",
       "      <th>Bird flight, flapping wings</th>\n",
       "      <td>56</td>\n",
       "      <td>/m/05_wcq</td>\n",
       "      <td>5</td>\n",
       "    </tr>\n",
       "    <tr>\n",
       "      <th>Rodents, rats, mice</th>\n",
       "      <td>55</td>\n",
       "      <td>/m/06hps</td>\n",
       "      <td>6</td>\n",
       "    </tr>\n",
       "  </tbody>\n",
       "</table>\n",
       "</div>"
      ],
      "text/plain": [
       "                             count         mid  true_count\n",
       "display_name                                              \n",
       "Music                          193    /m/04rlf          10\n",
       "Bird                           171    /m/015p6          10\n",
       "Domestic animals, pets         157    /m/068hy           7\n",
       "Fowl                           133  /m/025rv6n           9\n",
       "Cat                            120    /m/01yrx          10\n",
       "Insect                         104    /m/03vt0           8\n",
       "Horse                           77    /m/03k3r           7\n",
       "Cattle, bovinae                 62  /m/01xq0k1           8\n",
       "Wild animals                    61   /m/01280g           8\n",
       "Bee, wasp, etc.                 60    /m/01h3n          10\n",
       "Hoot                            60  /m/07r_80w           5\n",
       "Croak                           59  /m/07st88b           9\n",
       "Canidae, dogs, wolves           59    /m/01z5f           8\n",
       "Whale vocalization              59   /m/032n05           4\n",
       "Snake                           59    /m/078jl           4\n",
       "Goat                            56    /m/03fwl           8\n",
       "Bird flight, flapping wings     56   /m/05_wcq           5\n",
       "Rodents, rats, mice             55    /m/06hps           6"
      ]
     },
     "execution_count": 1061,
     "metadata": {},
     "output_type": "execute_result"
    }
   ],
   "source": [
    "hist_df.sort_values(by=['count', 'true_count'], ascending=False)"
   ]
  },
  {
   "cell_type": "code",
   "execution_count": null,
   "metadata": {},
   "outputs": [],
   "source": []
  },
  {
   "cell_type": "code",
   "execution_count": null,
   "metadata": {},
   "outputs": [],
   "source": []
  },
  {
   "cell_type": "code",
   "execution_count": null,
   "metadata": {},
   "outputs": [],
   "source": []
  },
  {
   "cell_type": "code",
   "execution_count": null,
   "metadata": {},
   "outputs": [],
   "source": []
  },
  {
   "cell_type": "code",
   "execution_count": null,
   "metadata": {},
   "outputs": [],
   "source": []
  },
  {
   "cell_type": "code",
   "execution_count": null,
   "metadata": {},
   "outputs": [],
   "source": []
  },
  {
   "cell_type": "code",
   "execution_count": null,
   "metadata": {},
   "outputs": [],
   "source": []
  },
  {
   "cell_type": "code",
   "execution_count": null,
   "metadata": {},
   "outputs": [],
   "source": []
  }
 ],
 "metadata": {
  "kernelspec": {
   "display_name": "Python 3",
   "language": "python",
   "name": "python3"
  },
  "language_info": {
   "codemirror_mode": {
    "name": "ipython",
    "version": 3
   },
   "file_extension": ".py",
   "mimetype": "text/x-python",
   "name": "python",
   "nbconvert_exporter": "python",
   "pygments_lexer": "ipython3",
   "version": "3.7.3"
  }
 },
 "nbformat": 4,
 "nbformat_minor": 2
}
